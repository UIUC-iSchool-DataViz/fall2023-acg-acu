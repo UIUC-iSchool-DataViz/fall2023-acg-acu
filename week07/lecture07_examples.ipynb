{
 "cells": [
  {
   "cell_type": "code",
   "execution_count": 1,
   "id": "8224c5fc-a2e3-4fe4-baa1-2789d1b37a5f",
   "metadata": {
    "tags": []
   },
   "outputs": [],
   "source": [
    "import pandas as pd"
   ]
  },
  {
   "cell_type": "code",
   "execution_count": 4,
   "id": "c57fcc68-20ec-470f-9092-c08e52026568",
   "metadata": {
    "tags": []
   },
   "outputs": [],
   "source": [
    "counties = pd.read_csv(\"https://raw.githubusercontent.com/nytimes/covid-19-data/master/us-counties.csv\",\n",
    "                       parse_dates = [\"date\"])"
   ]
  },
  {
   "cell_type": "code",
   "execution_count": 5,
   "id": "2c0cc8ff-9848-4086-bd54-6718c55676b5",
   "metadata": {
    "tags": []
   },
   "outputs": [],
   "source": [
    "states = pd.read_csv(\"https://raw.githubusercontent.com/nytimes/covid-19-data/master/us-states.csv\",\n",
    "                    parse_dates = [\"date\"])"
   ]
  },
  {
   "cell_type": "code",
   "execution_count": 6,
   "id": "38d0df82-6968-4729-85c2-0dc665141d45",
   "metadata": {
    "tags": []
   },
   "outputs": [
    {
     "data": {
      "text/html": [
       "<div>\n",
       "<style scoped>\n",
       "    .dataframe tbody tr th:only-of-type {\n",
       "        vertical-align: middle;\n",
       "    }\n",
       "\n",
       "    .dataframe tbody tr th {\n",
       "        vertical-align: top;\n",
       "    }\n",
       "\n",
       "    .dataframe thead th {\n",
       "        text-align: right;\n",
       "    }\n",
       "</style>\n",
       "<table border=\"1\" class=\"dataframe\">\n",
       "  <thead>\n",
       "    <tr style=\"text-align: right;\">\n",
       "      <th></th>\n",
       "      <th>date</th>\n",
       "      <th>state</th>\n",
       "      <th>fips</th>\n",
       "      <th>cases</th>\n",
       "      <th>deaths</th>\n",
       "    </tr>\n",
       "  </thead>\n",
       "  <tbody>\n",
       "    <tr>\n",
       "      <th>0</th>\n",
       "      <td>2020-01-21</td>\n",
       "      <td>Washington</td>\n",
       "      <td>53</td>\n",
       "      <td>1</td>\n",
       "      <td>0</td>\n",
       "    </tr>\n",
       "    <tr>\n",
       "      <th>1</th>\n",
       "      <td>2020-01-22</td>\n",
       "      <td>Washington</td>\n",
       "      <td>53</td>\n",
       "      <td>1</td>\n",
       "      <td>0</td>\n",
       "    </tr>\n",
       "    <tr>\n",
       "      <th>2</th>\n",
       "      <td>2020-01-23</td>\n",
       "      <td>Washington</td>\n",
       "      <td>53</td>\n",
       "      <td>1</td>\n",
       "      <td>0</td>\n",
       "    </tr>\n",
       "    <tr>\n",
       "      <th>3</th>\n",
       "      <td>2020-01-24</td>\n",
       "      <td>Illinois</td>\n",
       "      <td>17</td>\n",
       "      <td>1</td>\n",
       "      <td>0</td>\n",
       "    </tr>\n",
       "    <tr>\n",
       "      <th>4</th>\n",
       "      <td>2020-01-24</td>\n",
       "      <td>Washington</td>\n",
       "      <td>53</td>\n",
       "      <td>1</td>\n",
       "      <td>0</td>\n",
       "    </tr>\n",
       "    <tr>\n",
       "      <th>...</th>\n",
       "      <td>...</td>\n",
       "      <td>...</td>\n",
       "      <td>...</td>\n",
       "      <td>...</td>\n",
       "      <td>...</td>\n",
       "    </tr>\n",
       "    <tr>\n",
       "      <th>61937</th>\n",
       "      <td>2023-03-23</td>\n",
       "      <td>Virginia</td>\n",
       "      <td>51</td>\n",
       "      <td>2298300</td>\n",
       "      <td>23782</td>\n",
       "    </tr>\n",
       "    <tr>\n",
       "      <th>61938</th>\n",
       "      <td>2023-03-23</td>\n",
       "      <td>Washington</td>\n",
       "      <td>53</td>\n",
       "      <td>1940704</td>\n",
       "      <td>15905</td>\n",
       "    </tr>\n",
       "    <tr>\n",
       "      <th>61939</th>\n",
       "      <td>2023-03-23</td>\n",
       "      <td>West Virginia</td>\n",
       "      <td>54</td>\n",
       "      <td>645710</td>\n",
       "      <td>8132</td>\n",
       "    </tr>\n",
       "    <tr>\n",
       "      <th>61940</th>\n",
       "      <td>2023-03-23</td>\n",
       "      <td>Wisconsin</td>\n",
       "      <td>55</td>\n",
       "      <td>2014524</td>\n",
       "      <td>16485</td>\n",
       "    </tr>\n",
       "    <tr>\n",
       "      <th>61941</th>\n",
       "      <td>2023-03-23</td>\n",
       "      <td>Wyoming</td>\n",
       "      <td>56</td>\n",
       "      <td>185800</td>\n",
       "      <td>2014</td>\n",
       "    </tr>\n",
       "  </tbody>\n",
       "</table>\n",
       "<p>61942 rows × 5 columns</p>\n",
       "</div>"
      ],
      "text/plain": [
       "            date          state  fips    cases  deaths\n",
       "0     2020-01-21     Washington    53        1       0\n",
       "1     2020-01-22     Washington    53        1       0\n",
       "2     2020-01-23     Washington    53        1       0\n",
       "3     2020-01-24       Illinois    17        1       0\n",
       "4     2020-01-24     Washington    53        1       0\n",
       "...          ...            ...   ...      ...     ...\n",
       "61937 2023-03-23       Virginia    51  2298300   23782\n",
       "61938 2023-03-23     Washington    53  1940704   15905\n",
       "61939 2023-03-23  West Virginia    54   645710    8132\n",
       "61940 2023-03-23      Wisconsin    55  2014524   16485\n",
       "61941 2023-03-23        Wyoming    56   185800    2014\n",
       "\n",
       "[61942 rows x 5 columns]"
      ]
     },
     "execution_count": 6,
     "metadata": {},
     "output_type": "execute_result"
    }
   ],
   "source": [
    "states"
   ]
  },
  {
   "cell_type": "code",
   "execution_count": 7,
   "id": "40d49bdc-4c86-444e-8dda-b9b1ea0da177",
   "metadata": {
    "tags": []
   },
   "outputs": [
    {
     "data": {
      "text/plain": [
       "date      datetime64[ns]\n",
       "state             object\n",
       "fips               int64\n",
       "cases              int64\n",
       "deaths             int64\n",
       "dtype: object"
      ]
     },
     "execution_count": 7,
     "metadata": {},
     "output_type": "execute_result"
    }
   ],
   "source": [
    "states.dtypes"
   ]
  },
  {
   "cell_type": "code",
   "execution_count": 8,
   "id": "094a967f-3a34-4b8f-811d-bd8b22d0e63d",
   "metadata": {
    "tags": []
   },
   "outputs": [
    {
     "data": {
      "text/html": [
       "<div>\n",
       "<style scoped>\n",
       "    .dataframe tbody tr th:only-of-type {\n",
       "        vertical-align: middle;\n",
       "    }\n",
       "\n",
       "    .dataframe tbody tr th {\n",
       "        vertical-align: top;\n",
       "    }\n",
       "\n",
       "    .dataframe thead th {\n",
       "        text-align: right;\n",
       "    }\n",
       "</style>\n",
       "<table border=\"1\" class=\"dataframe\">\n",
       "  <thead>\n",
       "    <tr style=\"text-align: right;\">\n",
       "      <th></th>\n",
       "      <th>date</th>\n",
       "      <th>county</th>\n",
       "      <th>state</th>\n",
       "      <th>fips</th>\n",
       "      <th>cases</th>\n",
       "      <th>deaths</th>\n",
       "    </tr>\n",
       "  </thead>\n",
       "  <tbody>\n",
       "    <tr>\n",
       "      <th>0</th>\n",
       "      <td>2020-01-21</td>\n",
       "      <td>Snohomish</td>\n",
       "      <td>Washington</td>\n",
       "      <td>53061.0</td>\n",
       "      <td>1</td>\n",
       "      <td>0.0</td>\n",
       "    </tr>\n",
       "    <tr>\n",
       "      <th>1</th>\n",
       "      <td>2020-01-22</td>\n",
       "      <td>Snohomish</td>\n",
       "      <td>Washington</td>\n",
       "      <td>53061.0</td>\n",
       "      <td>1</td>\n",
       "      <td>0.0</td>\n",
       "    </tr>\n",
       "    <tr>\n",
       "      <th>2</th>\n",
       "      <td>2020-01-23</td>\n",
       "      <td>Snohomish</td>\n",
       "      <td>Washington</td>\n",
       "      <td>53061.0</td>\n",
       "      <td>1</td>\n",
       "      <td>0.0</td>\n",
       "    </tr>\n",
       "    <tr>\n",
       "      <th>3</th>\n",
       "      <td>2020-01-24</td>\n",
       "      <td>Cook</td>\n",
       "      <td>Illinois</td>\n",
       "      <td>17031.0</td>\n",
       "      <td>1</td>\n",
       "      <td>0.0</td>\n",
       "    </tr>\n",
       "    <tr>\n",
       "      <th>4</th>\n",
       "      <td>2020-01-24</td>\n",
       "      <td>Snohomish</td>\n",
       "      <td>Washington</td>\n",
       "      <td>53061.0</td>\n",
       "      <td>1</td>\n",
       "      <td>0.0</td>\n",
       "    </tr>\n",
       "    <tr>\n",
       "      <th>...</th>\n",
       "      <td>...</td>\n",
       "      <td>...</td>\n",
       "      <td>...</td>\n",
       "      <td>...</td>\n",
       "      <td>...</td>\n",
       "      <td>...</td>\n",
       "    </tr>\n",
       "    <tr>\n",
       "      <th>2502827</th>\n",
       "      <td>2022-05-13</td>\n",
       "      <td>Sweetwater</td>\n",
       "      <td>Wyoming</td>\n",
       "      <td>56037.0</td>\n",
       "      <td>11088</td>\n",
       "      <td>126.0</td>\n",
       "    </tr>\n",
       "    <tr>\n",
       "      <th>2502828</th>\n",
       "      <td>2022-05-13</td>\n",
       "      <td>Teton</td>\n",
       "      <td>Wyoming</td>\n",
       "      <td>56039.0</td>\n",
       "      <td>10074</td>\n",
       "      <td>16.0</td>\n",
       "    </tr>\n",
       "    <tr>\n",
       "      <th>2502829</th>\n",
       "      <td>2022-05-13</td>\n",
       "      <td>Uinta</td>\n",
       "      <td>Wyoming</td>\n",
       "      <td>56041.0</td>\n",
       "      <td>5643</td>\n",
       "      <td>39.0</td>\n",
       "    </tr>\n",
       "    <tr>\n",
       "      <th>2502830</th>\n",
       "      <td>2022-05-13</td>\n",
       "      <td>Washakie</td>\n",
       "      <td>Wyoming</td>\n",
       "      <td>56043.0</td>\n",
       "      <td>2358</td>\n",
       "      <td>44.0</td>\n",
       "    </tr>\n",
       "    <tr>\n",
       "      <th>2502831</th>\n",
       "      <td>2022-05-13</td>\n",
       "      <td>Weston</td>\n",
       "      <td>Wyoming</td>\n",
       "      <td>56045.0</td>\n",
       "      <td>1588</td>\n",
       "      <td>18.0</td>\n",
       "    </tr>\n",
       "  </tbody>\n",
       "</table>\n",
       "<p>2502832 rows × 6 columns</p>\n",
       "</div>"
      ],
      "text/plain": [
       "              date      county       state     fips  cases  deaths\n",
       "0       2020-01-21   Snohomish  Washington  53061.0      1     0.0\n",
       "1       2020-01-22   Snohomish  Washington  53061.0      1     0.0\n",
       "2       2020-01-23   Snohomish  Washington  53061.0      1     0.0\n",
       "3       2020-01-24        Cook    Illinois  17031.0      1     0.0\n",
       "4       2020-01-24   Snohomish  Washington  53061.0      1     0.0\n",
       "...            ...         ...         ...      ...    ...     ...\n",
       "2502827 2022-05-13  Sweetwater     Wyoming  56037.0  11088   126.0\n",
       "2502828 2022-05-13       Teton     Wyoming  56039.0  10074    16.0\n",
       "2502829 2022-05-13       Uinta     Wyoming  56041.0   5643    39.0\n",
       "2502830 2022-05-13    Washakie     Wyoming  56043.0   2358    44.0\n",
       "2502831 2022-05-13      Weston     Wyoming  56045.0   1588    18.0\n",
       "\n",
       "[2502832 rows x 6 columns]"
      ]
     },
     "execution_count": 8,
     "metadata": {},
     "output_type": "execute_result"
    }
   ],
   "source": [
    "counties"
   ]
  },
  {
   "cell_type": "code",
   "execution_count": 10,
   "id": "d4a7db04-ff11-4ae9-9445-c5dd1ebb580b",
   "metadata": {
    "tags": []
   },
   "outputs": [],
   "source": [
    "counties.dtypes\n",
    "\n",
    "illinois_results = states[\n",
    "    states[\"state\"] == \"Illinois\"\n",
    "]"
   ]
  },
  {
   "cell_type": "code",
   "execution_count": 12,
   "id": "d6aeb734-ee3c-460e-893e-1ffbb7218e2a",
   "metadata": {
    "tags": []
   },
   "outputs": [
    {
     "data": {
      "text/html": [
       "<div>\n",
       "<style scoped>\n",
       "    .dataframe tbody tr th:only-of-type {\n",
       "        vertical-align: middle;\n",
       "    }\n",
       "\n",
       "    .dataframe tbody tr th {\n",
       "        vertical-align: top;\n",
       "    }\n",
       "\n",
       "    .dataframe thead th {\n",
       "        text-align: right;\n",
       "    }\n",
       "</style>\n",
       "<table border=\"1\" class=\"dataframe\">\n",
       "  <thead>\n",
       "    <tr style=\"text-align: right;\">\n",
       "      <th></th>\n",
       "      <th>date</th>\n",
       "      <th>state</th>\n",
       "      <th>fips</th>\n",
       "      <th>cases</th>\n",
       "      <th>deaths</th>\n",
       "    </tr>\n",
       "  </thead>\n",
       "  <tbody>\n",
       "    <tr>\n",
       "      <th>3</th>\n",
       "      <td>2020-01-24</td>\n",
       "      <td>Illinois</td>\n",
       "      <td>17</td>\n",
       "      <td>1</td>\n",
       "      <td>0</td>\n",
       "    </tr>\n",
       "    <tr>\n",
       "      <th>6</th>\n",
       "      <td>2020-01-25</td>\n",
       "      <td>Illinois</td>\n",
       "      <td>17</td>\n",
       "      <td>1</td>\n",
       "      <td>0</td>\n",
       "    </tr>\n",
       "    <tr>\n",
       "      <th>10</th>\n",
       "      <td>2020-01-26</td>\n",
       "      <td>Illinois</td>\n",
       "      <td>17</td>\n",
       "      <td>1</td>\n",
       "      <td>0</td>\n",
       "    </tr>\n",
       "    <tr>\n",
       "      <th>14</th>\n",
       "      <td>2020-01-27</td>\n",
       "      <td>Illinois</td>\n",
       "      <td>17</td>\n",
       "      <td>1</td>\n",
       "      <td>0</td>\n",
       "    </tr>\n",
       "    <tr>\n",
       "      <th>18</th>\n",
       "      <td>2020-01-28</td>\n",
       "      <td>Illinois</td>\n",
       "      <td>17</td>\n",
       "      <td>1</td>\n",
       "      <td>0</td>\n",
       "    </tr>\n",
       "    <tr>\n",
       "      <th>...</th>\n",
       "      <td>...</td>\n",
       "      <td>...</td>\n",
       "      <td>...</td>\n",
       "      <td>...</td>\n",
       "      <td>...</td>\n",
       "    </tr>\n",
       "    <tr>\n",
       "      <th>61677</th>\n",
       "      <td>2023-03-19</td>\n",
       "      <td>Illinois</td>\n",
       "      <td>17</td>\n",
       "      <td>4099400</td>\n",
       "      <td>41573</td>\n",
       "    </tr>\n",
       "    <tr>\n",
       "      <th>61733</th>\n",
       "      <td>2023-03-20</td>\n",
       "      <td>Illinois</td>\n",
       "      <td>17</td>\n",
       "      <td>4099448</td>\n",
       "      <td>41573</td>\n",
       "    </tr>\n",
       "    <tr>\n",
       "      <th>61789</th>\n",
       "      <td>2023-03-21</td>\n",
       "      <td>Illinois</td>\n",
       "      <td>17</td>\n",
       "      <td>4099448</td>\n",
       "      <td>41573</td>\n",
       "    </tr>\n",
       "    <tr>\n",
       "      <th>61845</th>\n",
       "      <td>2023-03-22</td>\n",
       "      <td>Illinois</td>\n",
       "      <td>17</td>\n",
       "      <td>4099448</td>\n",
       "      <td>41573</td>\n",
       "    </tr>\n",
       "    <tr>\n",
       "      <th>61901</th>\n",
       "      <td>2023-03-23</td>\n",
       "      <td>Illinois</td>\n",
       "      <td>17</td>\n",
       "      <td>4107931</td>\n",
       "      <td>41618</td>\n",
       "    </tr>\n",
       "  </tbody>\n",
       "</table>\n",
       "<p>1155 rows × 5 columns</p>\n",
       "</div>"
      ],
      "text/plain": [
       "            date     state  fips    cases  deaths\n",
       "3     2020-01-24  Illinois    17        1       0\n",
       "6     2020-01-25  Illinois    17        1       0\n",
       "10    2020-01-26  Illinois    17        1       0\n",
       "14    2020-01-27  Illinois    17        1       0\n",
       "18    2020-01-28  Illinois    17        1       0\n",
       "...          ...       ...   ...      ...     ...\n",
       "61677 2023-03-19  Illinois    17  4099400   41573\n",
       "61733 2023-03-20  Illinois    17  4099448   41573\n",
       "61789 2023-03-21  Illinois    17  4099448   41573\n",
       "61845 2023-03-22  Illinois    17  4099448   41573\n",
       "61901 2023-03-23  Illinois    17  4107931   41618\n",
       "\n",
       "[1155 rows x 5 columns]"
      ]
     },
     "execution_count": 12,
     "metadata": {},
     "output_type": "execute_result"
    }
   ],
   "source": [
    "illinois_results"
   ]
  },
  {
   "cell_type": "code",
   "execution_count": 17,
   "id": "dd0fa745-a8b3-4a84-a0b1-2a98ba030e17",
   "metadata": {
    "tags": []
   },
   "outputs": [
    {
     "data": {
      "text/plain": [
       "3        False\n",
       "6        False\n",
       "10       False\n",
       "14       False\n",
       "18        True\n",
       "         ...  \n",
       "61677    False\n",
       "61733    False\n",
       "61789    False\n",
       "61845    False\n",
       "61901    False\n",
       "Name: date, Length: 1155, dtype: bool"
      ]
     },
     "execution_count": 17,
     "metadata": {},
     "output_type": "execute_result"
    }
   ],
   "source": [
    "illinois_results[\"date\"] == \"January 28, 2020\""
   ]
  },
  {
   "cell_type": "code",
   "execution_count": 18,
   "id": "9822f2c2-35e4-46d6-8610-6178be5ed93c",
   "metadata": {
    "tags": []
   },
   "outputs": [],
   "source": [
    "import bqplot"
   ]
  },
  {
   "cell_type": "code",
   "execution_count": 22,
   "id": "e9236269-9ef6-4182-bdb7-0bb191958f69",
   "metadata": {
    "tags": []
   },
   "outputs": [
    {
     "data": {
      "application/vnd.jupyter.widget-view+json": {
       "model_id": "2c38e81f868b4e5d8d194b970e878e6f",
       "version_major": 2,
       "version_minor": 0
      },
      "text/plain": [
       "Figure(axes=[Axis(label='Date', scale=DateScale()), Axis(label='Cases (cumulative)', orientation='vertical', s…"
      ]
     },
     "metadata": {},
     "output_type": "display_data"
    }
   ],
   "source": [
    "x_sc = bqplot.DateScale()\n",
    "y_sc = bqplot.LinearScale()\n",
    "\n",
    "x_ax = bqplot.Axis(scale = x_sc, label = \"Date\")\n",
    "y_ax = bqplot.Axis(scale = y_sc, label = \"Cases (cumulative)\", orientation = \"vertical\")\n",
    "\n",
    "lines = bqplot.Lines(x = illinois_results[\"date\"], y = illinois_results[\"cases\"],\n",
    "                    scales = {'x': x_sc, 'y': y_sc})\n",
    "\n",
    "fig = bqplot.Figure(marks = [lines], axes = [x_ax, y_ax])\n",
    "display(fig)"
   ]
  },
  {
   "cell_type": "code",
   "execution_count": 27,
   "id": "bac07fc1-c664-48c7-ad75-43318be5875a",
   "metadata": {
    "tags": []
   },
   "outputs": [
    {
     "data": {
      "application/vnd.jupyter.widget-view+json": {
       "model_id": "7347057371fa43eca92b677cdce7f120",
       "version_major": 2,
       "version_minor": 0
      },
      "text/plain": [
       "Figure(axes=[Axis(label='Date', scale=DateScale()), Axis(label='Cases (cumulative)', orientation='vertical', s…"
      ]
     },
     "metadata": {},
     "output_type": "display_data"
    }
   ],
   "source": [
    "x_sc = bqplot.DateScale()\n",
    "y_sc = bqplot.LinearScale()\n",
    "\n",
    "x_ax = bqplot.Axis(scale = x_sc, label = \"Date\")\n",
    "y_ax = bqplot.Axis(scale = y_sc, label = \"Cases (cumulative)\", orientation = \"vertical\")\n",
    "\n",
    "lines = bqplot.Lines(x = illinois_results[\"date\"], y = illinois_results[\"cases\"],\n",
    "                    scales = {'x': x_sc, 'y': y_sc})\n",
    "\n",
    "date_selection = bqplot.interacts.FastIntervalSelector(scale = x_sc)\n",
    "\n",
    "fig = bqplot.Figure(marks = [lines], axes = [x_ax, y_ax], interaction = date_selection)\n",
    "display(fig)"
   ]
  },
  {
   "cell_type": "code",
   "execution_count": 28,
   "id": "aed3e9b8-04fb-4f8c-a192-ed171aa3cd13",
   "metadata": {
    "tags": []
   },
   "outputs": [
    {
     "data": {
      "text/plain": [
       "array(['2020-12-24T04:33:49.829', '2021-10-03T04:43:57.158'],\n",
       "      dtype='datetime64[ms]')"
      ]
     },
     "execution_count": 28,
     "metadata": {},
     "output_type": "execute_result"
    }
   ],
   "source": [
    "date_selection.selected"
   ]
  },
  {
   "cell_type": "code",
   "execution_count": 47,
   "id": "350d2053-6328-41f5-8db7-3ec699f87f45",
   "metadata": {
    "tags": []
   },
   "outputs": [],
   "source": [
    "import ipywidgets"
   ]
  },
  {
   "cell_type": "code",
   "execution_count": 50,
   "id": "6022edce-ec61-4594-b2cb-a2f153862341",
   "metadata": {
    "tags": []
   },
   "outputs": [
    {
     "data": {
      "application/vnd.jupyter.widget-view+json": {
       "model_id": "7865ebf61cbe49968823a8c46a7e14b8",
       "version_major": 2,
       "version_minor": 0
      },
      "text/plain": [
       "Label(value='')"
      ]
     },
     "metadata": {},
     "output_type": "display_data"
    }
   ],
   "source": [
    "label = ipywidgets.Label()\n",
    "display(label)"
   ]
  },
  {
   "cell_type": "code",
   "execution_count": 60,
   "id": "c7789bf7-a6fd-4e97-a7de-d5ff52215d06",
   "metadata": {
    "tags": []
   },
   "outputs": [],
   "source": [
    "def watch_selection(change):\n",
    "    selected_range = illinois_results.loc[change['new'][0] : change['new'][1]]\n",
    "    delta_cases = selected_range[\"cases\"].max() - selected_range[\"cases\"].min()\n",
    "    label.value = \"An increase of %s\" % delta_cases\n",
    "date_selection.unobserve_all()\n",
    "date_selection.observe(watch_selection, [\"selected\"])"
   ]
  },
  {
   "cell_type": "code",
   "execution_count": 44,
   "id": "3dae9560-cd75-4655-8c3c-0a37737e9260",
   "metadata": {
    "tags": []
   },
   "outputs": [],
   "source": [
    "illinois_results.set_index(\"date\", inplace=True)\n",
    "illinois_results.loc[date_selection.selected[0] : date_selection.selected[1]]"
   ]
  },
  {
   "cell_type": "code",
   "execution_count": 31,
   "id": "cec466bf-fc13-412b-8ad2-32f452ee4edd",
   "metadata": {
    "tags": []
   },
   "outputs": [],
   "source": [
    "in_range = ((illinois_results[\"date\"] < date_selection.selected[1])\n",
    "          & (illinois_results[\"date\"] > date_selection.selected[0]))"
   ]
  },
  {
   "cell_type": "code",
   "execution_count": 36,
   "id": "5029b6c1-ccd6-4bc1-8138-c8db70965cb2",
   "metadata": {
    "tags": []
   },
   "outputs": [
    {
     "data": {
      "text/plain": [
       "16363     932427\n",
       "16418     935849\n",
       "16473     939671\n",
       "16528     944402\n",
       "16583     950122\n",
       "          ...   \n",
       "31661    1629196\n",
       "31717    1632653\n",
       "31773    1635964\n",
       "31829    1635964\n",
       "31885    1635964\n",
       "Name: cases, Length: 283, dtype: int64"
      ]
     },
     "execution_count": 36,
     "metadata": {},
     "output_type": "execute_result"
    }
   ],
   "source": [
    "illinois_results[in_range][\"cases\"]"
   ]
  },
  {
   "cell_type": "code",
   "execution_count": 57,
   "id": "dd510235-ff7e-44ad-9a16-075de1ff1888",
   "metadata": {
    "tags": []
   },
   "outputs": [],
   "source": [
    "illinois_results = states[\n",
    "    states[\"state\"] == \"Illinois\"\n",
    "]"
   ]
  },
  {
   "cell_type": "code",
   "execution_count": 58,
   "id": "6f75320e-227a-4a27-801c-092d9a8eb55f",
   "metadata": {
    "tags": []
   },
   "outputs": [],
   "source": [
    "illinois_results.set_index(\"date\", inplace=True)"
   ]
  },
  {
   "cell_type": "code",
   "execution_count": 59,
   "id": "98c13c05-8c0e-40bb-a2d6-c4069837b419",
   "metadata": {
    "tags": []
   },
   "outputs": [
    {
     "data": {
      "text/html": [
       "<div>\n",
       "<style scoped>\n",
       "    .dataframe tbody tr th:only-of-type {\n",
       "        vertical-align: middle;\n",
       "    }\n",
       "\n",
       "    .dataframe tbody tr th {\n",
       "        vertical-align: top;\n",
       "    }\n",
       "\n",
       "    .dataframe thead th {\n",
       "        text-align: right;\n",
       "    }\n",
       "</style>\n",
       "<table border=\"1\" class=\"dataframe\">\n",
       "  <thead>\n",
       "    <tr style=\"text-align: right;\">\n",
       "      <th></th>\n",
       "      <th>state</th>\n",
       "      <th>fips</th>\n",
       "      <th>cases</th>\n",
       "      <th>deaths</th>\n",
       "    </tr>\n",
       "    <tr>\n",
       "      <th>date</th>\n",
       "      <th></th>\n",
       "      <th></th>\n",
       "      <th></th>\n",
       "      <th></th>\n",
       "    </tr>\n",
       "  </thead>\n",
       "  <tbody>\n",
       "    <tr>\n",
       "      <th>2020-01-24</th>\n",
       "      <td>Illinois</td>\n",
       "      <td>17</td>\n",
       "      <td>1</td>\n",
       "      <td>0</td>\n",
       "    </tr>\n",
       "    <tr>\n",
       "      <th>2020-01-25</th>\n",
       "      <td>Illinois</td>\n",
       "      <td>17</td>\n",
       "      <td>1</td>\n",
       "      <td>0</td>\n",
       "    </tr>\n",
       "    <tr>\n",
       "      <th>2020-01-26</th>\n",
       "      <td>Illinois</td>\n",
       "      <td>17</td>\n",
       "      <td>1</td>\n",
       "      <td>0</td>\n",
       "    </tr>\n",
       "    <tr>\n",
       "      <th>2020-01-27</th>\n",
       "      <td>Illinois</td>\n",
       "      <td>17</td>\n",
       "      <td>1</td>\n",
       "      <td>0</td>\n",
       "    </tr>\n",
       "    <tr>\n",
       "      <th>2020-01-28</th>\n",
       "      <td>Illinois</td>\n",
       "      <td>17</td>\n",
       "      <td>1</td>\n",
       "      <td>0</td>\n",
       "    </tr>\n",
       "    <tr>\n",
       "      <th>...</th>\n",
       "      <td>...</td>\n",
       "      <td>...</td>\n",
       "      <td>...</td>\n",
       "      <td>...</td>\n",
       "    </tr>\n",
       "    <tr>\n",
       "      <th>2023-03-19</th>\n",
       "      <td>Illinois</td>\n",
       "      <td>17</td>\n",
       "      <td>4099400</td>\n",
       "      <td>41573</td>\n",
       "    </tr>\n",
       "    <tr>\n",
       "      <th>2023-03-20</th>\n",
       "      <td>Illinois</td>\n",
       "      <td>17</td>\n",
       "      <td>4099448</td>\n",
       "      <td>41573</td>\n",
       "    </tr>\n",
       "    <tr>\n",
       "      <th>2023-03-21</th>\n",
       "      <td>Illinois</td>\n",
       "      <td>17</td>\n",
       "      <td>4099448</td>\n",
       "      <td>41573</td>\n",
       "    </tr>\n",
       "    <tr>\n",
       "      <th>2023-03-22</th>\n",
       "      <td>Illinois</td>\n",
       "      <td>17</td>\n",
       "      <td>4099448</td>\n",
       "      <td>41573</td>\n",
       "    </tr>\n",
       "    <tr>\n",
       "      <th>2023-03-23</th>\n",
       "      <td>Illinois</td>\n",
       "      <td>17</td>\n",
       "      <td>4107931</td>\n",
       "      <td>41618</td>\n",
       "    </tr>\n",
       "  </tbody>\n",
       "</table>\n",
       "<p>1155 rows × 4 columns</p>\n",
       "</div>"
      ],
      "text/plain": [
       "               state  fips    cases  deaths\n",
       "date                                       \n",
       "2020-01-24  Illinois    17        1       0\n",
       "2020-01-25  Illinois    17        1       0\n",
       "2020-01-26  Illinois    17        1       0\n",
       "2020-01-27  Illinois    17        1       0\n",
       "2020-01-28  Illinois    17        1       0\n",
       "...              ...   ...      ...     ...\n",
       "2023-03-19  Illinois    17  4099400   41573\n",
       "2023-03-20  Illinois    17  4099448   41573\n",
       "2023-03-21  Illinois    17  4099448   41573\n",
       "2023-03-22  Illinois    17  4099448   41573\n",
       "2023-03-23  Illinois    17  4107931   41618\n",
       "\n",
       "[1155 rows x 4 columns]"
      ]
     },
     "execution_count": 59,
     "metadata": {},
     "output_type": "execute_result"
    }
   ],
   "source": [
    "illinois_results"
   ]
  },
  {
   "cell_type": "code",
   "execution_count": 62,
   "id": "06065123-55ab-4e9f-9ccb-a831f34071e1",
   "metadata": {
    "tags": []
   },
   "outputs": [],
   "source": [
    "state_map = bqplot.topo_load(\"map_data/USStatesMap.json\")"
   ]
  },
  {
   "cell_type": "code",
   "execution_count": 71,
   "id": "6fdfd21a-cd29-4c10-b786-19cc5dcb1813",
   "metadata": {
    "tags": []
   },
   "outputs": [],
   "source": [
    "cases_by_fips = states.groupby(\"fips\")[\"cases\"].max().to_dict()"
   ]
  },
  {
   "cell_type": "code",
   "execution_count": null,
   "id": "5dd2f946-d048-4211-b904-10a726cfd19f",
   "metadata": {
    "tags": []
   },
   "outputs": [],
   "source": [
    "proj = bqplot.AlbersUSA()\n",
    "color_sc = bqplot.ColorScale(scheme = \"BuPu\")\n",
    "color_ax = bqplot.ColorAxis(scale = color_sc)\n",
    "map_mark = bqplot.Map(map_data = state_map, color = cases_by_fips,\n",
    "                      scales = {'projection': proj,\n",
    "                               'color': color_sc}\n",
    ")\n",
    "fig = bqplot.Figure(marks = [map_mark], axes = [color_ax])\n",
    "display(fig)"
   ]
  },
  {
   "cell_type": "code",
   "execution_count": 100,
   "id": "56a09001-be08-4c78-8797-b3adab30355f",
   "metadata": {
    "tags": []
   },
   "outputs": [
    {
     "data": {
      "application/vnd.jupyter.widget-view+json": {
       "model_id": "ee1e19c5f62f4b9c84826e1052a571f6",
       "version_major": 2,
       "version_minor": 0
      },
      "text/plain": [
       "Label(value='')"
      ]
     },
     "metadata": {},
     "output_type": "display_data"
    }
   ],
   "source": [
    "label2 = ipywidgets.Label()\n",
    "display(label2)"
   ]
  },
  {
   "cell_type": "code",
   "execution_count": 101,
   "id": "41482d45-ff5f-4255-96f7-87bbe62c7ce1",
   "metadata": {
    "tags": []
   },
   "outputs": [],
   "source": [
    "def hover_over_state(mark, hover_info):\n",
    "    label2.value = \"%s had %s cases\" % (hover_info['data']['name'], hover_info['data']['color'])\n",
    "map_mark.on_hover(hover_over_state)"
   ]
  },
  {
   "cell_type": "code",
   "execution_count": 98,
   "id": "916e52ec-f0ce-4f5c-9a59-35d67eb0ef02",
   "metadata": {
    "tags": []
   },
   "outputs": [
    {
     "data": {
      "text/plain": [
       "'0.12.40'"
      ]
     },
     "execution_count": 98,
     "metadata": {},
     "output_type": "execute_result"
    }
   ],
   "source": [
    "bqplot.__version__"
   ]
  },
  {
   "cell_type": "code",
   "execution_count": 102,
   "id": "d3ee1f72-e698-4b5f-a9a1-d80049f0629b",
   "metadata": {
    "tags": []
   },
   "outputs": [
    {
     "data": {
      "application/vnd.jupyter.widget-view+json": {
       "model_id": "c2cd4966c886494193397a2da02f22a6",
       "version_major": 2,
       "version_minor": 0
      },
      "text/plain": [
       "VBox(children=(Label(value='Kansas had 940815 cases'), Figure(axes=[ColorAxis(scale=ColorScale(scheme='BuPu'))…"
      ]
     },
     "execution_count": 102,
     "metadata": {},
     "output_type": "execute_result"
    }
   ],
   "source": [
    "ipywidgets.VBox([\n",
    "    label2,\n",
    "    fig,\n",
    "])"
   ]
  },
  {
   "cell_type": "code",
   "execution_count": 160,
   "id": "87cf03b9-fb24-4b3b-942c-c0e87d7bbd6c",
   "metadata": {
    "tags": []
   },
   "outputs": [
    {
     "data": {
      "application/vnd.jupyter.widget-view+json": {
       "model_id": "57e0708c484f4a0aa24b193a01aeb794",
       "version_major": 2,
       "version_minor": 0
      },
      "text/plain": [
       "VBox(children=(Figure(axes=[Axis(label='Date', scale=DateScale()), Axis(label='Cases (cumulative)', orientatio…"
      ]
     },
     "execution_count": 160,
     "metadata": {},
     "output_type": "execute_result"
    }
   ],
   "source": [
    "x_sc = bqplot.DateScale()\n",
    "y_sc = bqplot.LinearScale()\n",
    "\n",
    "x_ax = bqplot.Axis(scale = x_sc, label = \"Date\")\n",
    "y_ax = bqplot.Axis(scale = y_sc, label = \"Cases (cumulative)\", orientation = \"vertical\")\n",
    "\n",
    "lines = bqplot.Lines(x = illinois_results.index, y = illinois_results[\"cases\"],\n",
    "                    scales = {'x': x_sc, 'y': y_sc})\n",
    "\n",
    "date_selection = bqplot.interacts.FastIntervalSelector(scale = x_sc)\n",
    "\n",
    "line_fig = bqplot.Figure(marks = [lines], axes = [x_ax, y_ax], interaction = date_selection)\n",
    "\n",
    "proj = bqplot.AlbersUSA()\n",
    "color_sc = bqplot.ColorScale(scheme = \"BuPu\")\n",
    "color_ax = bqplot.ColorAxis(scale = color_sc)\n",
    "map_mark = bqplot.Map(map_data = state_map, color = cases_by_fips,\n",
    "                      scales = {'projection': proj,\n",
    "                               'color': color_sc}\n",
    ")\n",
    "map_fig = bqplot.Figure(marks = [map_mark], axes = [color_ax])\n",
    "\n",
    "ipywidgets.VBox([\n",
    "    line_fig,\n",
    "    map_fig\n",
    "])"
   ]
  },
  {
   "cell_type": "code",
   "execution_count": 134,
   "id": "7d108413-99ce-4e7c-a324-a4b392c35339",
   "metadata": {
    "tags": []
   },
   "outputs": [],
   "source": [
    "line_fig.layout.height = \"250px\"\n",
    "map_fig.layout.height = \"400px\""
   ]
  },
  {
   "cell_type": "code",
   "execution_count": 161,
   "id": "dd6fce9e-1b63-4801-ae45-ba3b4f9577a4",
   "metadata": {
    "tags": []
   },
   "outputs": [],
   "source": [
    "states_by_date = states.set_index(\"date\")"
   ]
  },
  {
   "cell_type": "code",
   "execution_count": 172,
   "id": "60b107ff-fb99-49a5-98e0-9fd4d7b87db1",
   "metadata": {
    "tags": []
   },
   "outputs": [],
   "source": [
    "def change_date_selection(change):\n",
    "    max_cases = states_by_date.loc[change['new'][0]:change['new'][1]].groupby(\"fips\")[\"cases\"].max().to_dict()\n",
    "    print(max_cases)\n",
    "    map_mark.color = max_cases\n",
    "date_selection.unobserve_all()\n",
    "date_selection.observe(change_date_selection, [\"selected\"])"
   ]
  },
  {
   "cell_type": "code",
   "execution_count": 171,
   "id": "d52efd95-9a0f-48c3-822f-0a6a3289be12",
   "metadata": {
    "tags": []
   },
   "outputs": [
    {
     "data": {
      "text/plain": [
       "{1: 1648385,\n",
       " 2: 308893,\n",
       " 4: 2451062,\n",
       " 5: 1008303,\n",
       " 6: 12169158,\n",
       " 8: 1771010,\n",
       " 9: 978456,\n",
       " 10: 332861,\n",
       " 11: 178226,\n",
       " 12: 7542869,\n",
       " 13: 2984923,\n",
       " 15: 372408,\n",
       " 16: 522919,\n",
       " 17: 4107931,\n",
       " 18: 2054533,\n",
       " 19: 907421,\n",
       " 20: 940815,\n",
       " 21: 1723443,\n",
       " 22: 1580709,\n",
       " 23: 319997,\n",
       " 24: 1369930,\n",
       " 25: 2230150,\n",
       " 26: 3068195,\n",
       " 27: 1784263,\n",
       " 28: 993035,\n",
       " 29: 1794207,\n",
       " 30: 330875,\n",
       " 31: 570835,\n",
       " 32: 892814,\n",
       " 33: 379689,\n",
       " 34: 3057442,\n",
       " 35: 673541,\n",
       " 36: 6805271,\n",
       " 37: 3481732,\n",
       " 38: 288106,\n",
       " 39: 3415254,\n",
       " 40: 1295832,\n",
       " 41: 967156,\n",
       " 42: 3539135,\n",
       " 44: 461788,\n",
       " 45: 1840458,\n",
       " 46: 280525,\n",
       " 47: 2459152,\n",
       " 48: 8447168,\n",
       " 49: 1093049,\n",
       " 50: 153198,\n",
       " 51: 2298300,\n",
       " 53: 1940704,\n",
       " 54: 645710,\n",
       " 55: 2014524,\n",
       " 56: 185800,\n",
       " 60: 8321,\n",
       " 66: 62077,\n",
       " 69: 13395,\n",
       " 72: 1139243,\n",
       " 78: 24838}"
      ]
     },
     "execution_count": 171,
     "metadata": {},
     "output_type": "execute_result"
    }
   ],
   "source": [
    "states_by_date.loc[date_selection.selected[0] : date_selection.selected[1]].groupby(\"fips\")[\"cases\"].max().to_dict()"
   ]
  },
  {
   "cell_type": "code",
   "execution_count": 170,
   "id": "cbb4486e-606b-4de1-aa48-64249f387f27",
   "metadata": {
    "tags": []
   },
   "outputs": [
    {
     "data": {
      "text/plain": [
       "{'fips': {'Alabama': 1,\n",
       "  'Alaska': 2,\n",
       "  'American Samoa': 60,\n",
       "  'Arizona': 4,\n",
       "  'Arkansas': 5,\n",
       "  'California': 6,\n",
       "  'Colorado': 8,\n",
       "  'Connecticut': 9,\n",
       "  'Delaware': 10,\n",
       "  'District of Columbia': 11,\n",
       "  'Florida': 12,\n",
       "  'Georgia': 13,\n",
       "  'Guam': 66,\n",
       "  'Hawaii': 15,\n",
       "  'Idaho': 16,\n",
       "  'Illinois': 17,\n",
       "  'Indiana': 18,\n",
       "  'Iowa': 19,\n",
       "  'Kansas': 20,\n",
       "  'Kentucky': 21,\n",
       "  'Louisiana': 22,\n",
       "  'Maine': 23,\n",
       "  'Maryland': 24,\n",
       "  'Massachusetts': 25,\n",
       "  'Michigan': 26,\n",
       "  'Minnesota': 27,\n",
       "  'Mississippi': 28,\n",
       "  'Missouri': 29,\n",
       "  'Montana': 30,\n",
       "  'Nebraska': 31,\n",
       "  'Nevada': 32,\n",
       "  'New Hampshire': 33,\n",
       "  'New Jersey': 34,\n",
       "  'New Mexico': 35,\n",
       "  'New York': 36,\n",
       "  'North Carolina': 37,\n",
       "  'North Dakota': 38,\n",
       "  'Northern Mariana Islands': 69,\n",
       "  'Ohio': 39,\n",
       "  'Oklahoma': 40,\n",
       "  'Oregon': 41,\n",
       "  'Pennsylvania': 42,\n",
       "  'Puerto Rico': 72,\n",
       "  'Rhode Island': 44,\n",
       "  'South Carolina': 45,\n",
       "  'South Dakota': 46,\n",
       "  'Tennessee': 47,\n",
       "  'Texas': 48,\n",
       "  'Utah': 49,\n",
       "  'Vermont': 50,\n",
       "  'Virgin Islands': 78,\n",
       "  'Virginia': 51,\n",
       "  'Washington': 53,\n",
       "  'West Virginia': 54,\n",
       "  'Wisconsin': 55,\n",
       "  'Wyoming': 56},\n",
       " 'cases': {'Alabama': 1648385,\n",
       "  'Alaska': 308893,\n",
       "  'American Samoa': 8321,\n",
       "  'Arizona': 2451062,\n",
       "  'Arkansas': 1008303,\n",
       "  'California': 12169158,\n",
       "  'Colorado': 1771010,\n",
       "  'Connecticut': 978456,\n",
       "  'Delaware': 332861,\n",
       "  'District of Columbia': 178226,\n",
       "  'Florida': 7542869,\n",
       "  'Georgia': 2984923,\n",
       "  'Guam': 62077,\n",
       "  'Hawaii': 372408,\n",
       "  'Idaho': 522919,\n",
       "  'Illinois': 4107931,\n",
       "  'Indiana': 2054533,\n",
       "  'Iowa': 907421,\n",
       "  'Kansas': 940815,\n",
       "  'Kentucky': 1723443,\n",
       "  'Louisiana': 1580709,\n",
       "  'Maine': 319997,\n",
       "  'Maryland': 1369930,\n",
       "  'Massachusetts': 2230150,\n",
       "  'Michigan': 3068195,\n",
       "  'Minnesota': 1784263,\n",
       "  'Mississippi': 993035,\n",
       "  'Missouri': 1794207,\n",
       "  'Montana': 330875,\n",
       "  'Nebraska': 570835,\n",
       "  'Nevada': 892814,\n",
       "  'New Hampshire': 379689,\n",
       "  'New Jersey': 3057442,\n",
       "  'New Mexico': 673541,\n",
       "  'New York': 6805271,\n",
       "  'North Carolina': 3481732,\n",
       "  'North Dakota': 288106,\n",
       "  'Northern Mariana Islands': 13395,\n",
       "  'Ohio': 3415254,\n",
       "  'Oklahoma': 1295832,\n",
       "  'Oregon': 967156,\n",
       "  'Pennsylvania': 3539135,\n",
       "  'Puerto Rico': 1139243,\n",
       "  'Rhode Island': 461788,\n",
       "  'South Carolina': 1840458,\n",
       "  'South Dakota': 280525,\n",
       "  'Tennessee': 2459152,\n",
       "  'Texas': 8447168,\n",
       "  'Utah': 1093049,\n",
       "  'Vermont': 153198,\n",
       "  'Virgin Islands': 24838,\n",
       "  'Virginia': 2298300,\n",
       "  'Washington': 1940704,\n",
       "  'West Virginia': 645710,\n",
       "  'Wisconsin': 2014524,\n",
       "  'Wyoming': 185800},\n",
       " 'deaths': {'Alabama': 21631,\n",
       "  'Alaska': 1438,\n",
       "  'American Samoa': 34,\n",
       "  'Arizona': 33190,\n",
       "  'Arkansas': 13068,\n",
       "  'California': 104277,\n",
       "  'Colorado': 14245,\n",
       "  'Connecticut': 12270,\n",
       "  'Delaware': 3352,\n",
       "  'District of Columbia': 1487,\n",
       "  'Florida': 87141,\n",
       "  'Georgia': 41055,\n",
       "  'Guam': 421,\n",
       "  'Hawaii': 1851,\n",
       "  'Idaho': 5456,\n",
       "  'Illinois': 41618,\n",
       "  'Indiana': 26179,\n",
       "  'Iowa': 10770,\n",
       "  'Kansas': 10232,\n",
       "  'Kentucky': 18348,\n",
       "  'Louisiana': 18835,\n",
       "  'Maine': 2981,\n",
       "  'Maryland': 16672,\n",
       "  'Massachusetts': 24441,\n",
       "  'Michigan': 42311,\n",
       "  'Minnesota': 14964,\n",
       "  'Mississippi': 13431,\n",
       "  'Missouri': 23998,\n",
       "  'Montana': 3701,\n",
       "  'Nebraska': 5068,\n",
       "  'Nevada': 12093,\n",
       "  'New Hampshire': 3018,\n",
       "  'New Jersey': 36097,\n",
       "  'New Mexico': 9110,\n",
       "  'New York': 80138,\n",
       "  'North Carolina': 29746,\n",
       "  'North Dakota': 2529,\n",
       "  'Northern Mariana Islands': 41,\n",
       "  'Ohio': 42061,\n",
       "  'Oklahoma': 16549,\n",
       "  'Oregon': 9451,\n",
       "  'Pennsylvania': 50701,\n",
       "  'Puerto Rico': 5848,\n",
       "  'Rhode Island': 3915,\n",
       "  'South Carolina': 20192,\n",
       "  'South Dakota': 3222,\n",
       "  'Tennessee': 29035,\n",
       "  'Texas': 94518,\n",
       "  'Utah': 5316,\n",
       "  'Vermont': 939,\n",
       "  'Virgin Islands': 130,\n",
       "  'Virginia': 23782,\n",
       "  'Washington': 15905,\n",
       "  'West Virginia': 8132,\n",
       "  'Wisconsin': 16485,\n",
       "  'Wyoming': 2014}}"
      ]
     },
     "execution_count": 170,
     "metadata": {},
     "output_type": "execute_result"
    }
   ],
   "source": [
    "\n",
    "map_mark.color"
   ]
  },
  {
   "cell_type": "code",
   "execution_count": null,
   "id": "f5f22f0a-b94a-4a5e-ac22-9b30a7af18fc",
   "metadata": {},
   "outputs": [],
   "source": []
  }
 ],
 "metadata": {
  "kernelspec": {
   "display_name": "py311",
   "language": "python",
   "name": "py311"
  },
  "language_info": {
   "codemirror_mode": {
    "name": "ipython",
    "version": 3
   },
   "file_extension": ".py",
   "mimetype": "text/x-python",
   "name": "python",
   "nbconvert_exporter": "python",
   "pygments_lexer": "ipython3",
   "version": "3.11.4"
  }
 },
 "nbformat": 4,
 "nbformat_minor": 5
}
